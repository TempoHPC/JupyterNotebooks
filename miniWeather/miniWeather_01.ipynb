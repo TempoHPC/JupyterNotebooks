{
  "nbformat": 4,
  "nbformat_minor": 0,
  "metadata": {
    "colab": {
      "provenance": [],
      "machine_shape": "hm",
      "gpuType": "V100",
      "include_colab_link": true
    },
    "kernelspec": {
      "name": "python3",
      "display_name": "Python 3"
    },
    "language_info": {
      "name": "python"
    },
    "accelerator": "GPU",
    "gpuClass": "standard"
  },
  "cells": [
    {
      "cell_type": "markdown",
      "metadata": {
        "id": "view-in-github",
        "colab_type": "text"
      },
      "source": [
        "<a href=\"https://colab.research.google.com/github/TempoHPC/JupyterNotebooks/blob/main/miniWeather/miniWeather_01.ipynb\" target=\"_parent\"><img src=\"https://colab.research.google.com/assets/colab-badge.svg\" alt=\"Open In Colab\"/></a>"
      ]
    },
    {
      "cell_type": "markdown",
      "source": [
        "# **TempoHPC**\n",
        "# \"Metodologia de auditoria de código e planejamento de otimização aplicada no núcleo dinâmico do modelo MONAN\"\n",
        "### Instalação do miniWeather no Ubuntu 20.04 LTS"
      ],
      "metadata": {
        "id": "ND2kYHItEyQr"
      }
    },
    {
      "cell_type": "markdown",
      "source": [
        "## Dependências\n",
        "\n",
        "---\n",
        "\n"
      ],
      "metadata": {
        "id": "n8mICxHdmRKh"
      }
    },
    {
      "cell_type": "markdown",
      "source": [
        "### atualizar o sistema"
      ],
      "metadata": {
        "id": "3l3EStbkxZIz"
      }
    },
    {
      "cell_type": "code",
      "source": [
        "%%bash\n",
        "apt update\n",
        "apt upgrade"
      ],
      "metadata": {
        "id": "iv_6sBm1vZ6u"
      },
      "execution_count": null,
      "outputs": []
    },
    {
      "cell_type": "markdown",
      "source": [
        "### Instalar compiladores `GNU`"
      ],
      "metadata": {
        "id": "Qu9UwS4Pme8h"
      }
    },
    {
      "cell_type": "code",
      "source": [
        "%%bash\n",
        "apt install gcc g++ gfortran"
      ],
      "metadata": {
        "id": "F0CRfGnjvgyO"
      },
      "execution_count": null,
      "outputs": []
    },
    {
      "cell_type": "markdown",
      "source": [
        "### Instalar `OpenMPI`"
      ],
      "metadata": {
        "id": "ffug2Yfkmuug"
      }
    },
    {
      "cell_type": "code",
      "source": [
        "%%bash\n",
        "apt install libopenmpi-dev openmpi-bin openmpi-common"
      ],
      "metadata": {
        "id": "1Z_6ReluxYdo"
      },
      "execution_count": null,
      "outputs": []
    },
    {
      "cell_type": "markdown",
      "source": [
        "###   Instalar a biblioteca `Parallel netCDF`\n",
        "\n"
      ],
      "metadata": {
        "id": "ZauSBltE7BRz"
      }
    },
    {
      "cell_type": "code",
      "source": [
        "%%bash\n",
        "apt install libpnetcdf-dev pnetcdf-bin"
      ],
      "metadata": {
        "id": "OpsXjBevpynC"
      },
      "execution_count": null,
      "outputs": []
    },
    {
      "cell_type": "markdown",
      "source": [
        "### Instalar o cmake"
      ],
      "metadata": {
        "id": "6YlsXNQZDmME"
      }
    },
    {
      "cell_type": "code",
      "source": [
        "%%bash\n",
        "apt install cmake"
      ],
      "metadata": {
        "id": "fZhJWctBDh-x"
      },
      "execution_count": null,
      "outputs": []
    },
    {
      "cell_type": "markdown",
      "source": [
        "## miniWeather"
      ],
      "metadata": {
        "id": "7LTdvID2DnKG"
      }
    },
    {
      "cell_type": "markdown",
      "source": [
        "### Criando usuário `miniweather`"
      ],
      "metadata": {
        "id": "ec1GDGQ1EEWA"
      }
    },
    {
      "cell_type": "code",
      "source": [
        "%%bash\n",
        "adduser miniweather"
      ],
      "metadata": {
        "id": "xNdPij77CLis"
      },
      "execution_count": null,
      "outputs": []
    },
    {
      "cell_type": "markdown",
      "source": [
        "### Baixar o código do repositório `https://github.com/TempoHPC/miniWeather.git` (fork do respositório original)"
      ],
      "metadata": {
        "id": "_0cO1JAbCr8f"
      }
    },
    {
      "cell_type": "code",
      "source": [
        "%%bash\n",
        "su miniweather\n",
        "cd\n",
        "git clone https://github.com/TempoHPC/miniWeather.git"
      ],
      "metadata": {
        "id": "jhnK4wPYEvqw"
      },
      "execution_count": null,
      "outputs": []
    },
    {
      "cell_type": "markdown",
      "source": [
        "###  Ir para o branch `lnccpibic`"
      ],
      "metadata": {
        "id": "tyeHU3D2xapQ"
      }
    },
    {
      "cell_type": "code",
      "source": [
        "%%bash\n",
        "su miniweather\n",
        "cd ~/miniWeather\n",
        "git checkout lnccpibic"
      ],
      "metadata": {
        "id": "5njK6gd8xTH1"
      },
      "execution_count": null,
      "outputs": []
    },
    {
      "cell_type": "markdown",
      "source": [
        "### Compilar exemplo implementado em linguagem C"
      ],
      "metadata": {
        "id": "9FkgZE6gx1eJ"
      }
    },
    {
      "cell_type": "code",
      "source": [
        "%%bash\n",
        "su miniweather\n",
        "cd ~/miniWeather/c/build/\n",
        "git branch\n",
        "./cmake_gnu_ubuntu.sh"
      ],
      "metadata": {
        "id": "vgQYfrXcxUYk"
      },
      "execution_count": null,
      "outputs": []
    },
    {
      "cell_type": "markdown",
      "source": [
        "### É gerado um arquivo `Makefile`. Basta dar comando `make` para compilar e gerar os executáveis deste exemplo."
      ],
      "metadata": {
        "id": "5GHOTKjN0x3g"
      }
    },
    {
      "cell_type": "code",
      "source": [
        "%%bash\n",
        "su miniweather\n",
        "cd ~/miniWeather/c/build/\n",
        "make"
      ],
      "metadata": {
        "id": "s9SVlk_n1TEH"
      },
      "execution_count": null,
      "outputs": []
    },
    {
      "cell_type": "markdown",
      "source": [
        "### São gerados os executáveis"
      ],
      "metadata": {
        "id": "5BFtqzzf3Gfk"
      }
    },
    {
      "cell_type": "code",
      "source": [
        "%%bash\n",
        "su miniweather\n",
        "cd ~/miniWeather/c/build/\n",
        "ls -ltr"
      ],
      "metadata": {
        "id": "oZneoqEl3Muw"
      },
      "execution_count": null,
      "outputs": []
    },
    {
      "cell_type": "markdown",
      "source": [
        "### Rodar `mpi`, com **um** processo MPI"
      ],
      "metadata": {
        "id": "WHGwRaCF3770"
      }
    },
    {
      "cell_type": "code",
      "source": [
        "%%bash\n",
        "su miniweather\n",
        "cd ~/miniWeather/c/build/\n",
        "mpirun -np 1 ./mpi"
      ],
      "metadata": {
        "id": "LpotmP2J4F22"
      },
      "execution_count": null,
      "outputs": []
    },
    {
      "cell_type": "markdown",
      "source": [
        "### Rodar `mpi`, com **dois** processos MPI"
      ],
      "metadata": {
        "id": "0xh8x82l4ks-"
      }
    },
    {
      "cell_type": "code",
      "source": [
        "%%bash\n",
        "su miniweather\n",
        "cd ~/miniWeather/c/build/\n",
        "mpirun -np 2 ./mpi"
      ],
      "metadata": {
        "id": "7ghm0EBR4ga_"
      },
      "execution_count": null,
      "outputs": []
    },
    {
      "cell_type": "markdown",
      "source": [
        "### Rodar `mpi`, com **quatro** processos MPI"
      ],
      "metadata": {
        "id": "Dj9RcXqm4muh"
      }
    },
    {
      "cell_type": "code",
      "source": [
        "%%bash\n",
        "su miniweather\n",
        "cd ~/miniWeather/c/build/\n",
        "mpirun --use-hwthread-cpus -np 4 ./mpi\n",
        "ls *.nc"
      ],
      "metadata": {
        "id": "XWtHXOVc4guS"
      },
      "execution_count": null,
      "outputs": []
    },
    {
      "cell_type": "code",
      "source": [
        "%%bash\n",
        "su miniweather\n",
        "cd ~/miniWeather/c/build/\n",
        "ls *.nc"
      ],
      "metadata": {
        "id": "OnauB6om54uZ"
      },
      "execution_count": null,
      "outputs": []
    },
    {
      "cell_type": "markdown",
      "source": [
        "## Visualização (ainda em desenvolvimento)"
      ],
      "metadata": {
        "id": "UHPEUOZIjNdR"
      }
    },
    {
      "cell_type": "code",
      "source": [
        "!pip install ncvue"
      ],
      "metadata": {
        "id": "gNCC6WLuBUEN"
      },
      "execution_count": null,
      "outputs": []
    },
    {
      "cell_type": "code",
      "source": [
        "!apt install python3-tk"
      ],
      "metadata": {
        "id": "wcxMFGAuGUei"
      },
      "execution_count": null,
      "outputs": []
    },
    {
      "cell_type": "code",
      "source": [
        "!apt install"
      ],
      "metadata": {
        "id": "YnyIF9kaMAo1"
      },
      "execution_count": null,
      "outputs": []
    },
    {
      "cell_type": "code",
      "source": [
        "!apt install python3-tk-dbg"
      ],
      "metadata": {
        "id": "6LcGR7ahMCND"
      },
      "execution_count": null,
      "outputs": []
    },
    {
      "cell_type": "code",
      "source": [
        "!python -V"
      ],
      "metadata": {
        "id": "41_Eo2jZHlPD"
      },
      "execution_count": null,
      "outputs": []
    },
    {
      "cell_type": "code",
      "source": [
        "!sudo apt install idle-python3.10"
      ],
      "metadata": {
        "id": "8wQGjYlBHu3U"
      },
      "execution_count": null,
      "outputs": []
    },
    {
      "cell_type": "code",
      "source": [
        "!apt install tcl-dev tk-dev python-tk python3-tk"
      ],
      "metadata": {
        "id": "dHJoe0gpNmSK"
      },
      "execution_count": null,
      "outputs": []
    },
    {
      "cell_type": "code",
      "source": [
        "#import matplotlib\n",
        "#matplotlib.use('TKAgg')\n",
        "#matplotlib.use('inline')"
      ],
      "metadata": {
        "id": "V7DkQj0QJZYJ"
      },
      "execution_count": null,
      "outputs": []
    },
    {
      "cell_type": "code",
      "source": [
        "!apt install -y xvfb # Install X Virtual Frame Buffer\n",
        "import os\n",
        "os.system('Xvfb :1 -screen 0 1600x1200x16  &')  # start it\n",
        "os.environ['DISPLAY']=':1.0'  # tells X clients where to connect to"
      ],
      "metadata": {
        "id": "xCX1f6yePEZ0"
      },
      "execution_count": null,
      "outputs": []
    },
    {
      "cell_type": "code",
      "source": [
        "%matplotlib inline\n",
        "from ncvue import ncvue\n",
        "ncvue('/home/miniweather/miniWeather/c/build/output.nc')\n",
        "%matplotlib inline"
      ],
      "metadata": {
        "id": "EEf3FgxFC0NJ"
      },
      "execution_count": null,
      "outputs": []
    },
    {
      "cell_type": "code",
      "source": [
        "!ls /usr/lib/x86_64-linux-gnu/fortran/"
      ],
      "metadata": {
        "id": "yQ1Llfzh0IbR"
      },
      "execution_count": null,
      "outputs": []
    }
  ]
}