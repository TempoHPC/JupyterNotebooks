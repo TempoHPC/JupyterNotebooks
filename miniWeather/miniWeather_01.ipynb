{
  "nbformat": 4,
  "nbformat_minor": 0,
  "metadata": {
    "colab": {
      "provenance": [],
      "machine_shape": "hm",
      "gpuType": "V100",
      "include_colab_link": true
    },
    "kernelspec": {
      "name": "python3",
      "display_name": "Python 3"
    },
    "language_info": {
      "name": "python"
    },
    "accelerator": "GPU",
    "gpuClass": "standard"
  },
  "cells": [
    {
      "cell_type": "markdown",
      "metadata": {
        "id": "view-in-github",
        "colab_type": "text"
      },
      "source": [
        "<a href=\"https://colab.research.google.com/github/TempoHPC/JupyterNotebooks/blob/main/miniWeather/miniWeather_01.ipynb\" target=\"_parent\"><img src=\"https://colab.research.google.com/assets/colab-badge.svg\" alt=\"Open In Colab\"/></a>"
      ]
    },
    {
      "cell_type": "markdown",
      "source": [
        "# **TempoHPC**\n",
        "# \"Metodologia de auditoria de código e planejamento de otimização aplicada no núcleo dinâmico do modelo MONAN\"\n",
        "### Instalação do miniWeather no Ubuntu 20.04 LTS"
      ],
      "metadata": {
        "id": "ND2kYHItEyQr"
      }
    },
    {
      "cell_type": "markdown",
      "source": [
        "## Dependências\n",
        "\n",
        "---\n",
        "\n"
      ],
      "metadata": {
        "id": "n8mICxHdmRKh"
      }
    },
    {
      "cell_type": "markdown",
      "source": [
        "### atualizar o sistema"
      ],
      "metadata": {
        "id": "3l3EStbkxZIz"
      }
    },
    {
      "cell_type": "code",
      "source": [
        "%%bash\n",
        "apt update\n",
        "apt upgrade"
      ],
      "metadata": {
        "id": "iv_6sBm1vZ6u",
        "colab": {
          "base_uri": "https://localhost:8080/"
        },
        "outputId": "aefe8398-e456-40b4-a060-530a909d4f3a"
      },
      "execution_count": 1,
      "outputs": [
        {
          "output_type": "stream",
          "name": "stdout",
          "text": [
            "Hit:1 http://ppa.launchpad.net/c2d4u.team/c2d4u4.0+/ubuntu focal InRelease\n",
            "Get:2 http://security.ubuntu.com/ubuntu focal-security InRelease [114 kB]\n",
            "Get:3 https://cloud.r-project.org/bin/linux/ubuntu focal-cran40/ InRelease [3,622 B]\n",
            "Hit:4 http://ppa.launchpad.net/cran/libgit2/ubuntu focal InRelease\n",
            "Hit:5 http://ppa.launchpad.net/deadsnakes/ppa/ubuntu focal InRelease\n",
            "Get:6 https://developer.download.nvidia.com/compute/cuda/repos/ubuntu2004/x86_64  InRelease [1,581 B]\n",
            "Hit:7 http://ppa.launchpad.net/graphics-drivers/ppa/ubuntu focal InRelease\n",
            "Hit:8 http://ppa.launchpad.net/ubuntugis/ppa/ubuntu focal InRelease\n",
            "Hit:9 http://archive.ubuntu.com/ubuntu focal InRelease\n",
            "Get:10 http://archive.ubuntu.com/ubuntu focal-updates InRelease [114 kB]\n",
            "Get:11 http://security.ubuntu.com/ubuntu focal-security/main amd64 Packages [2,866 kB]\n",
            "Get:12 http://security.ubuntu.com/ubuntu focal-security/multiverse amd64 Packages [29.3 kB]\n",
            "Get:13 http://security.ubuntu.com/ubuntu focal-security/restricted amd64 Packages [2,536 kB]\n",
            "Get:14 http://security.ubuntu.com/ubuntu focal-security/universe amd64 Packages [1,071 kB]\n",
            "Get:15 http://archive.ubuntu.com/ubuntu focal-backports InRelease [108 kB]\n",
            "Get:16 https://developer.download.nvidia.com/compute/cuda/repos/ubuntu2004/x86_64  Packages [1,083 kB]\n",
            "Get:17 http://archive.ubuntu.com/ubuntu focal-updates/multiverse amd64 Packages [32.0 kB]\n",
            "Get:18 http://archive.ubuntu.com/ubuntu focal-updates/main amd64 Packages [3,347 kB]\n",
            "Get:19 http://archive.ubuntu.com/ubuntu focal-updates/restricted amd64 Packages [2,677 kB]\n",
            "Get:20 http://archive.ubuntu.com/ubuntu focal-updates/universe amd64 Packages [1,370 kB]\n",
            "Fetched 15.4 MB in 2s (7,712 kB/s)\n",
            "Reading package lists...\n",
            "Building dependency tree...\n",
            "Reading state information...\n",
            "15 packages can be upgraded. Run 'apt list --upgradable' to see them.\n",
            "Reading package lists...\n",
            "Building dependency tree...\n",
            "Reading state information...\n",
            "Calculating upgrade...\n",
            "The following packages have been kept back:\n",
            "  libcudnn8 libcudnn8-dev libnccl-dev libnccl2\n",
            "The following packages will be upgraded:\n",
            "  bsdutils cuda-toolkit-config-common fdisk libblkid1 libfdisk1 libmount1\n",
            "  libsmartcols1 libudev1 linux-libc-dev mount util-linux\n",
            "11 upgraded, 0 newly installed, 0 to remove and 4 not upgraded.\n",
            "Need to get 3,086 kB of archives.\n",
            "After this operation, 1,024 B of additional disk space will be used.\n",
            "Get:1 https://developer.download.nvidia.com/compute/cuda/repos/ubuntu2004/x86_64  cuda-toolkit-config-common 12.2.53-1 [16.4 kB]\n",
            "Get:2 http://archive.ubuntu.com/ubuntu focal-updates/main amd64 bsdutils amd64 1:2.34-0.1ubuntu9.4 [63.0 kB]\n",
            "Get:3 http://archive.ubuntu.com/ubuntu focal-updates/main amd64 libblkid1 amd64 2.34-0.1ubuntu9.4 [137 kB]\n",
            "Get:4 http://archive.ubuntu.com/ubuntu focal-updates/main amd64 libfdisk1 amd64 2.34-0.1ubuntu9.4 [174 kB]\n",
            "Get:5 http://archive.ubuntu.com/ubuntu focal-updates/main amd64 libmount1 amd64 2.34-0.1ubuntu9.4 [150 kB]\n",
            "Get:6 http://archive.ubuntu.com/ubuntu focal-updates/main amd64 libsmartcols1 amd64 2.34-0.1ubuntu9.4 [100 kB]\n",
            "Get:7 http://archive.ubuntu.com/ubuntu focal-updates/main amd64 fdisk amd64 2.34-0.1ubuntu9.4 [119 kB]\n",
            "Get:8 http://archive.ubuntu.com/ubuntu focal-updates/main amd64 util-linux amd64 2.34-0.1ubuntu9.4 [1,021 kB]\n",
            "Get:9 http://archive.ubuntu.com/ubuntu focal-updates/main amd64 mount amd64 2.34-0.1ubuntu9.4 [115 kB]\n",
            "Get:10 http://archive.ubuntu.com/ubuntu focal-updates/main amd64 libudev1 amd64 245.4-4ubuntu3.22 [75.4 kB]\n",
            "Get:11 http://archive.ubuntu.com/ubuntu focal-updates/main amd64 linux-libc-dev amd64 5.4.0-153.170 [1,116 kB]\n",
            "Fetched 3,086 kB in 1s (3,284 kB/s)\n",
            "(Reading database ... \r(Reading database ... 5%\r(Reading database ... 10%\r(Reading database ... 15%\r(Reading database ... 20%\r(Reading database ... 25%\r(Reading database ... 30%\r(Reading database ... 35%\r(Reading database ... 40%\r(Reading database ... 45%\r(Reading database ... 50%\r(Reading database ... 55%\r(Reading database ... 60%\r(Reading database ... 65%\r(Reading database ... 70%\r(Reading database ... 75%\r(Reading database ... 80%\r(Reading database ... 85%\r(Reading database ... 90%\r(Reading database ... 95%\r(Reading database ... 100%\r(Reading database ... 123105 files and directories currently installed.)\r\n",
            "Preparing to unpack .../bsdutils_1%3a2.34-0.1ubuntu9.4_amd64.deb ...\r\n",
            "Unpacking bsdutils (1:2.34-0.1ubuntu9.4) over (1:2.34-0.1ubuntu9.3) ...\r\n",
            "Setting up bsdutils (1:2.34-0.1ubuntu9.4) ...\r\n",
            "(Reading database ... \r(Reading database ... 5%\r(Reading database ... 10%\r(Reading database ... 15%\r(Reading database ... 20%\r(Reading database ... 25%\r(Reading database ... 30%\r(Reading database ... 35%\r(Reading database ... 40%\r(Reading database ... 45%\r(Reading database ... 50%\r(Reading database ... 55%\r(Reading database ... 60%\r(Reading database ... 65%\r(Reading database ... 70%\r(Reading database ... 75%\r(Reading database ... 80%\r(Reading database ... 85%\r(Reading database ... 90%\r(Reading database ... 95%\r(Reading database ... 100%\r(Reading database ... 123105 files and directories currently installed.)\r\n",
            "Preparing to unpack .../libblkid1_2.34-0.1ubuntu9.4_amd64.deb ...\r\n",
            "Unpacking libblkid1:amd64 (2.34-0.1ubuntu9.4) over (2.34-0.1ubuntu9.3) ...\r\n",
            "Setting up libblkid1:amd64 (2.34-0.1ubuntu9.4) ...\r\n",
            "(Reading database ... \r(Reading database ... 5%\r(Reading database ... 10%\r(Reading database ... 15%\r(Reading database ... 20%\r(Reading database ... 25%\r(Reading database ... 30%\r(Reading database ... 35%\r(Reading database ... 40%\r(Reading database ... 45%\r(Reading database ... 50%\r(Reading database ... 55%\r(Reading database ... 60%\r(Reading database ... 65%\r(Reading database ... 70%\r(Reading database ... 75%\r(Reading database ... 80%\r(Reading database ... 85%\r(Reading database ... 90%\r(Reading database ... 95%\r(Reading database ... 100%\r(Reading database ... 123105 files and directories currently installed.)\r\n",
            "Preparing to unpack .../libfdisk1_2.34-0.1ubuntu9.4_amd64.deb ...\r\n",
            "Unpacking libfdisk1:amd64 (2.34-0.1ubuntu9.4) over (2.34-0.1ubuntu9.3) ...\r\n",
            "Preparing to unpack .../libmount1_2.34-0.1ubuntu9.4_amd64.deb ...\r\n",
            "Unpacking libmount1:amd64 (2.34-0.1ubuntu9.4) over (2.34-0.1ubuntu9.3) ...\r\n",
            "Setting up libmount1:amd64 (2.34-0.1ubuntu9.4) ...\r\n",
            "(Reading database ... \r(Reading database ... 5%\r(Reading database ... 10%\r(Reading database ... 15%\r(Reading database ... 20%\r(Reading database ... 25%\r(Reading database ... 30%\r(Reading database ... 35%\r(Reading database ... 40%\r(Reading database ... 45%\r(Reading database ... 50%\r(Reading database ... 55%\r(Reading database ... 60%\r(Reading database ... 65%\r(Reading database ... 70%\r(Reading database ... 75%\r(Reading database ... 80%\r(Reading database ... 85%\r(Reading database ... 90%\r(Reading database ... 95%\r(Reading database ... 100%\r(Reading database ... 123105 files and directories currently installed.)\r\n",
            "Preparing to unpack .../libsmartcols1_2.34-0.1ubuntu9.4_amd64.deb ...\r\n",
            "Unpacking libsmartcols1:amd64 (2.34-0.1ubuntu9.4) over (2.34-0.1ubuntu9.3) ...\r\n",
            "Setting up libsmartcols1:amd64 (2.34-0.1ubuntu9.4) ...\r\n",
            "(Reading database ... \r(Reading database ... 5%\r(Reading database ... 10%\r(Reading database ... 15%\r(Reading database ... 20%\r(Reading database ... 25%\r(Reading database ... 30%\r(Reading database ... 35%\r(Reading database ... 40%\r(Reading database ... 45%\r(Reading database ... 50%\r(Reading database ... 55%\r(Reading database ... 60%\r(Reading database ... 65%\r(Reading database ... 70%\r(Reading database ... 75%\r(Reading database ... 80%\r(Reading database ... 85%\r(Reading database ... 90%\r(Reading database ... 95%\r(Reading database ... 100%\r(Reading database ... 123105 files and directories currently installed.)\r\n",
            "Preparing to unpack .../fdisk_2.34-0.1ubuntu9.4_amd64.deb ...\r\n",
            "Unpacking fdisk (2.34-0.1ubuntu9.4) over (2.34-0.1ubuntu9.3) ...\r\n",
            "Preparing to unpack .../util-linux_2.34-0.1ubuntu9.4_amd64.deb ...\r\n",
            "Unpacking util-linux (2.34-0.1ubuntu9.4) over (2.34-0.1ubuntu9.3) ...\r\n",
            "Setting up util-linux (2.34-0.1ubuntu9.4) ...\r\n",
            "(Reading database ... \r(Reading database ... 5%\r(Reading database ... 10%\r(Reading database ... 15%\r(Reading database ... 20%\r(Reading database ... 25%\r(Reading database ... 30%\r(Reading database ... 35%\r(Reading database ... 40%\r(Reading database ... 45%\r(Reading database ... 50%\r(Reading database ... 55%\r(Reading database ... 60%\r(Reading database ... 65%\r(Reading database ... 70%\r(Reading database ... 75%\r(Reading database ... 80%\r(Reading database ... 85%\r(Reading database ... 90%\r(Reading database ... 95%\r(Reading database ... 100%\r(Reading database ... 123105 files and directories currently installed.)\r\n",
            "Preparing to unpack .../mount_2.34-0.1ubuntu9.4_amd64.deb ...\r\n",
            "Unpacking mount (2.34-0.1ubuntu9.4) over (2.34-0.1ubuntu9.3) ...\r\n",
            "Preparing to unpack .../libudev1_245.4-4ubuntu3.22_amd64.deb ...\r\n",
            "Unpacking libudev1:amd64 (245.4-4ubuntu3.22) over (245.4-4ubuntu3.21) ...\r\n",
            "Setting up libudev1:amd64 (245.4-4ubuntu3.22) ...\r\n",
            "(Reading database ... \r(Reading database ... 5%\r(Reading database ... 10%\r(Reading database ... 15%\r(Reading database ... 20%\r(Reading database ... 25%\r(Reading database ... 30%\r(Reading database ... 35%\r(Reading database ... 40%\r(Reading database ... 45%\r(Reading database ... 50%\r(Reading database ... 55%\r(Reading database ... 60%\r(Reading database ... 65%\r(Reading database ... 70%\r(Reading database ... 75%\r(Reading database ... 80%\r(Reading database ... 85%\r(Reading database ... 90%\r(Reading database ... 95%\r(Reading database ... 100%\r(Reading database ... 123105 files and directories currently installed.)\r\n",
            "Preparing to unpack .../cuda-toolkit-config-common_12.2.53-1_all.deb ...\r\n",
            "Unpacking cuda-toolkit-config-common (12.2.53-1) over (12.1.105-1) ...\r\n",
            "Preparing to unpack .../linux-libc-dev_5.4.0-153.170_amd64.deb ...\r\n",
            "Unpacking linux-libc-dev:amd64 (5.4.0-153.170) over (5.4.0-152.169) ...\r\n",
            "Setting up cuda-toolkit-config-common (12.2.53-1) ...\r\n",
            "Setting up linux-libc-dev:amd64 (5.4.0-153.170) ...\r\n",
            "Setting up libfdisk1:amd64 (2.34-0.1ubuntu9.4) ...\r\n",
            "Setting up mount (2.34-0.1ubuntu9.4) ...\r\n",
            "Setting up fdisk (2.34-0.1ubuntu9.4) ...\r\n",
            "Processing triggers for libc-bin (2.31-0ubuntu9.9) ...\r\n",
            "Processing triggers for systemd (245.4-4ubuntu3.22) ...\r\n",
            "Processing triggers for man-db (2.9.1-1) ...\r\n",
            "Processing triggers for mime-support (3.64ubuntu1) ...\r\n"
          ]
        },
        {
          "output_type": "stream",
          "name": "stderr",
          "text": [
            "\n",
            "WARNING: apt does not have a stable CLI interface. Use with caution in scripts.\n",
            "\n",
            "\n",
            "WARNING: apt does not have a stable CLI interface. Use with caution in scripts.\n",
            "\n"
          ]
        }
      ]
    },
    {
      "cell_type": "markdown",
      "source": [
        "### Instalar compiladores `GNU`"
      ],
      "metadata": {
        "id": "Qu9UwS4Pme8h"
      }
    },
    {
      "cell_type": "code",
      "source": [
        "%%bash\n",
        "apt install gcc g++ gfortran"
      ],
      "metadata": {
        "id": "F0CRfGnjvgyO",
        "colab": {
          "base_uri": "https://localhost:8080/"
        },
        "outputId": "56ad3633-4d9c-4656-c280-19b6be31bc7e"
      },
      "execution_count": 2,
      "outputs": [
        {
          "output_type": "stream",
          "name": "stdout",
          "text": [
            "Reading package lists...\n",
            "Building dependency tree...\n",
            "Reading state information...\n",
            "g++ is already the newest version (4:9.3.0-1ubuntu2).\n",
            "g++ set to manually installed.\n",
            "gcc is already the newest version (4:9.3.0-1ubuntu2).\n",
            "gcc set to manually installed.\n",
            "gfortran is already the newest version (4:9.3.0-1ubuntu2).\n",
            "0 upgraded, 0 newly installed, 0 to remove and 4 not upgraded.\n"
          ]
        },
        {
          "output_type": "stream",
          "name": "stderr",
          "text": [
            "\n",
            "WARNING: apt does not have a stable CLI interface. Use with caution in scripts.\n",
            "\n"
          ]
        }
      ]
    },
    {
      "cell_type": "markdown",
      "source": [
        "### Instalar `OpenMPI`"
      ],
      "metadata": {
        "id": "ffug2Yfkmuug"
      }
    },
    {
      "cell_type": "code",
      "source": [
        "%%bash\n",
        "apt install libopenmpi-dev openmpi-bin openmpi-common"
      ],
      "metadata": {
        "id": "1Z_6ReluxYdo",
        "colab": {
          "base_uri": "https://localhost:8080/"
        },
        "outputId": "3054d88e-c952-429b-96b6-2242226ab1ff"
      },
      "execution_count": 3,
      "outputs": [
        {
          "output_type": "stream",
          "name": "stdout",
          "text": [
            "Reading package lists...\n",
            "Building dependency tree...\n",
            "Reading state information...\n",
            "libopenmpi-dev is already the newest version (4.0.3-0ubuntu1).\n",
            "openmpi-bin is already the newest version (4.0.3-0ubuntu1).\n",
            "openmpi-bin set to manually installed.\n",
            "openmpi-common is already the newest version (4.0.3-0ubuntu1).\n",
            "openmpi-common set to manually installed.\n",
            "0 upgraded, 0 newly installed, 0 to remove and 4 not upgraded.\n"
          ]
        },
        {
          "output_type": "stream",
          "name": "stderr",
          "text": [
            "\n",
            "WARNING: apt does not have a stable CLI interface. Use with caution in scripts.\n",
            "\n"
          ]
        }
      ]
    },
    {
      "cell_type": "markdown",
      "source": [
        "###   Instalar a biblioteca `Parallel netCDF`\n",
        "\n"
      ],
      "metadata": {
        "id": "ZauSBltE7BRz"
      }
    },
    {
      "cell_type": "code",
      "source": [
        "%%bash\n",
        "apt install libpnetcdf-dev pnetcdf-bin"
      ],
      "metadata": {
        "id": "OpsXjBevpynC",
        "colab": {
          "base_uri": "https://localhost:8080/"
        },
        "outputId": "59cf4fee-159b-456e-bbdc-b3809d5f1b6a"
      },
      "execution_count": 4,
      "outputs": [
        {
          "output_type": "stream",
          "name": "stdout",
          "text": [
            "Reading package lists...\n",
            "Building dependency tree...\n",
            "Reading state information...\n",
            "The following additional packages will be installed:\n",
            "  libpnetcdf0d\n",
            "The following NEW packages will be installed:\n",
            "  libpnetcdf-dev libpnetcdf0d pnetcdf-bin\n",
            "0 upgraded, 3 newly installed, 0 to remove and 4 not upgraded.\n",
            "Need to get 1,666 kB of archives.\n",
            "After this operation, 20.4 MB of additional disk space will be used.\n",
            "Get:1 http://archive.ubuntu.com/ubuntu focal/universe amd64 libpnetcdf0d amd64 1.12.1-1ubuntu2 [515 kB]\n",
            "Get:2 http://archive.ubuntu.com/ubuntu focal/universe amd64 libpnetcdf-dev amd64 1.12.1-1ubuntu2 [779 kB]\n",
            "Get:3 http://archive.ubuntu.com/ubuntu focal/universe amd64 pnetcdf-bin amd64 1.12.1-1ubuntu2 [372 kB]\n",
            "Fetched 1,666 kB in 1s (1,921 kB/s)\n",
            "Selecting previously unselected package libpnetcdf0d:amd64.\r\n",
            "(Reading database ... \r(Reading database ... 5%\r(Reading database ... 10%\r(Reading database ... 15%\r(Reading database ... 20%\r(Reading database ... 25%\r(Reading database ... 30%\r(Reading database ... 35%\r(Reading database ... 40%\r(Reading database ... 45%\r(Reading database ... 50%\r(Reading database ... 55%\r(Reading database ... 60%\r(Reading database ... 65%\r(Reading database ... 70%\r(Reading database ... 75%\r(Reading database ... 80%\r(Reading database ... 85%\r(Reading database ... 90%\r(Reading database ... 95%\r(Reading database ... 100%\r(Reading database ... 123105 files and directories currently installed.)\r\n",
            "Preparing to unpack .../libpnetcdf0d_1.12.1-1ubuntu2_amd64.deb ...\r\n",
            "Unpacking libpnetcdf0d:amd64 (1.12.1-1ubuntu2) ...\r\n",
            "Selecting previously unselected package libpnetcdf-dev:amd64.\r\n",
            "Preparing to unpack .../libpnetcdf-dev_1.12.1-1ubuntu2_amd64.deb ...\r\n",
            "Unpacking libpnetcdf-dev:amd64 (1.12.1-1ubuntu2) ...\r\n",
            "Selecting previously unselected package pnetcdf-bin.\r\n",
            "Preparing to unpack .../pnetcdf-bin_1.12.1-1ubuntu2_amd64.deb ...\r\n",
            "Unpacking pnetcdf-bin (1.12.1-1ubuntu2) ...\r\n",
            "Setting up pnetcdf-bin (1.12.1-1ubuntu2) ...\r\n",
            "Setting up libpnetcdf0d:amd64 (1.12.1-1ubuntu2) ...\r\n",
            "Setting up libpnetcdf-dev:amd64 (1.12.1-1ubuntu2) ...\r\n",
            "Processing triggers for man-db (2.9.1-1) ...\r\n",
            "Processing triggers for libc-bin (2.31-0ubuntu9.9) ...\r\n"
          ]
        },
        {
          "output_type": "stream",
          "name": "stderr",
          "text": [
            "\n",
            "WARNING: apt does not have a stable CLI interface. Use with caution in scripts.\n",
            "\n"
          ]
        }
      ]
    },
    {
      "cell_type": "markdown",
      "source": [
        "### Instalar o cmake"
      ],
      "metadata": {
        "id": "6YlsXNQZDmME"
      }
    },
    {
      "cell_type": "code",
      "source": [
        "%%bash\n",
        "apt install cmake"
      ],
      "metadata": {
        "id": "fZhJWctBDh-x",
        "colab": {
          "base_uri": "https://localhost:8080/"
        },
        "outputId": "161ed711-af52-4937-ed9b-b493fe152b6a"
      },
      "execution_count": 5,
      "outputs": [
        {
          "output_type": "stream",
          "name": "stdout",
          "text": [
            "Reading package lists...\n",
            "Building dependency tree...\n",
            "Reading state information...\n",
            "cmake is already the newest version (3.16.3-1ubuntu1.20.04.1).\n",
            "0 upgraded, 0 newly installed, 0 to remove and 4 not upgraded.\n"
          ]
        },
        {
          "output_type": "stream",
          "name": "stderr",
          "text": [
            "\n",
            "WARNING: apt does not have a stable CLI interface. Use with caution in scripts.\n",
            "\n"
          ]
        }
      ]
    },
    {
      "cell_type": "markdown",
      "source": [
        "## miniWeather"
      ],
      "metadata": {
        "id": "7LTdvID2DnKG"
      }
    },
    {
      "cell_type": "markdown",
      "source": [
        "### Criando usuário `miniweather`"
      ],
      "metadata": {
        "id": "ec1GDGQ1EEWA"
      }
    },
    {
      "cell_type": "code",
      "source": [
        "%%bash\n",
        "adduser miniweather"
      ],
      "metadata": {
        "id": "xNdPij77CLis",
        "colab": {
          "base_uri": "https://localhost:8080/"
        },
        "outputId": "2fb7b6de-dd93-4b4b-d755-4a18f7773d9c"
      },
      "execution_count": 6,
      "outputs": [
        {
          "output_type": "stream",
          "name": "stdout",
          "text": [
            "Adding user `miniweather' ...\n",
            "Adding new group `miniweather' (1000) ...\n",
            "Adding new user `miniweather' (1000) with group `miniweather' ...\n",
            "Creating home directory `/home/miniweather' ...\n",
            "Copying files from `/etc/skel' ...\n",
            "Try again? [y/N] Changing the user information for miniweather\n",
            "Enter the new value, or press ENTER for the default\n",
            "\tFull Name []: \tRoom Number []: \tWork Phone []: \tHome Phone []: \tOther []: Is the information correct? [Y/n] "
          ]
        },
        {
          "output_type": "stream",
          "name": "stderr",
          "text": [
            "New password: Password change aborted.\n",
            "passwd: Authentication token manipulation error\n",
            "passwd: password unchanged\n",
            "Use of uninitialized value $answer in chop at /usr/sbin/adduser line 591.\n",
            "Use of uninitialized value $answer in pattern match (m//) at /usr/sbin/adduser line 592.\n",
            "Use of uninitialized value $answer in chop at /usr/sbin/adduser line 621.\n",
            "Use of uninitialized value $answer in pattern match (m//) at /usr/sbin/adduser line 622.\n"
          ]
        }
      ]
    },
    {
      "cell_type": "markdown",
      "source": [
        "### Baixar o código do repositório `https://github.com/TempoHPC/miniWeather.git` (fork do respositório original)"
      ],
      "metadata": {
        "id": "_0cO1JAbCr8f"
      }
    },
    {
      "cell_type": "code",
      "source": [
        "%%bash\n",
        "su miniweather\n",
        "cd\n",
        "git clone https://github.com/TempoHPC/miniWeather.git"
      ],
      "metadata": {
        "id": "jhnK4wPYEvqw",
        "colab": {
          "base_uri": "https://localhost:8080/"
        },
        "outputId": "f5728c61-65be-40cf-da27-fa6402d8e4b0"
      },
      "execution_count": 7,
      "outputs": [
        {
          "output_type": "stream",
          "name": "stderr",
          "text": [
            "Cloning into 'miniWeather'...\n"
          ]
        }
      ]
    },
    {
      "cell_type": "markdown",
      "source": [
        "###  Ir para o branch `lnccpibic`"
      ],
      "metadata": {
        "id": "tyeHU3D2xapQ"
      }
    },
    {
      "cell_type": "code",
      "source": [
        "%%bash\n",
        "su miniweather\n",
        "cd ~/miniWeather\n",
        "git checkout lnccpibic"
      ],
      "metadata": {
        "colab": {
          "base_uri": "https://localhost:8080/"
        },
        "id": "5njK6gd8xTH1",
        "outputId": "5aebe710-deac-4b68-ae42-c5970bfe6ef5"
      },
      "execution_count": 8,
      "outputs": [
        {
          "output_type": "stream",
          "name": "stdout",
          "text": [
            "Branch 'lnccpibic' set up to track remote branch 'lnccpibic' from 'origin'.\n"
          ]
        },
        {
          "output_type": "stream",
          "name": "stderr",
          "text": [
            "Switched to a new branch 'lnccpibic'\n"
          ]
        }
      ]
    },
    {
      "cell_type": "markdown",
      "source": [
        "### Compilar exemplo implementado em linguagem C"
      ],
      "metadata": {
        "id": "9FkgZE6gx1eJ"
      }
    },
    {
      "cell_type": "code",
      "source": [
        "%%bash\n",
        "su miniweather\n",
        "cd ~/miniWeather/c/build/\n",
        "git branch\n",
        "./cmake_gnu_ubuntu.sh"
      ],
      "metadata": {
        "colab": {
          "base_uri": "https://localhost:8080/"
        },
        "id": "vgQYfrXcxUYk",
        "outputId": "88465e18-6648-4b1b-e731-c1fce2881c34"
      },
      "execution_count": 9,
      "outputs": [
        {
          "output_type": "stream",
          "name": "stdout",
          "text": [
            "* lnccpibic\n",
            "  main\n",
            "-- The CXX compiler identification is GNU 9.4.0\n",
            "-- Detecting CXX compiler ABI info\n",
            "-- Detecting CXX compiler ABI info - done\n",
            "-- Check for working CXX compiler: /usr/bin/mpic++ - skipped\n",
            "-- Detecting CXX compile features\n",
            "-- Detecting CXX compile features - done\n",
            "-- Configuring done\n",
            "-- Generating done\n",
            "-- Build files have been written to: /home/miniweather/miniWeather/c/build\n"
          ]
        }
      ]
    },
    {
      "cell_type": "markdown",
      "source": [
        "### É gerado um arquivo `Makefile`. Basta dar comando `make` para compilar e gerar os executáveis deste exemplo."
      ],
      "metadata": {
        "id": "5GHOTKjN0x3g"
      }
    },
    {
      "cell_type": "code",
      "source": [
        "%%bash\n",
        "su miniweather\n",
        "cd ~/miniWeather/c/build/\n",
        "make"
      ],
      "metadata": {
        "colab": {
          "base_uri": "https://localhost:8080/"
        },
        "id": "s9SVlk_n1TEH",
        "outputId": "59a47642-6d6b-44aa-e856-7d556db9e3bb"
      },
      "execution_count": 10,
      "outputs": [
        {
          "output_type": "stream",
          "name": "stdout",
          "text": [
            "[  8%] Building CXX object CMakeFiles/serial.dir/miniWeather_serial.cpp.o\n",
            "[ 16%] Linking CXX executable serial\n",
            "[ 16%] Built target serial\n",
            "[ 25%] Building CXX object CMakeFiles/serial_test.dir/miniWeather_serial.cpp.o\n",
            "[ 33%] Linking CXX executable serial_test\n",
            "[ 33%] Built target serial_test\n",
            "[ 41%] Building CXX object CMakeFiles/mpi.dir/miniWeather_mpi.cpp.o\n",
            "[ 50%] Linking CXX executable mpi\n",
            "[ 50%] Built target mpi\n",
            "[ 58%] Building CXX object CMakeFiles/mpi_test.dir/miniWeather_mpi.cpp.o\n",
            "[ 66%] Linking CXX executable mpi_test\n",
            "[ 66%] Built target mpi_test\n",
            "[ 75%] Building CXX object CMakeFiles/openmp.dir/miniWeather_mpi_openmp.cpp.o\n",
            "[ 83%] Linking CXX executable openmp\n",
            "[ 83%] Built target openmp\n",
            "[ 91%] Building CXX object CMakeFiles/openmp_test.dir/miniWeather_mpi_openmp.cpp.o\n",
            "[100%] Linking CXX executable openmp_test\n",
            "[100%] Built target openmp_test\n"
          ]
        }
      ]
    },
    {
      "cell_type": "markdown",
      "source": [
        "### São gerados os executáveis"
      ],
      "metadata": {
        "id": "5BFtqzzf3Gfk"
      }
    },
    {
      "cell_type": "code",
      "source": [
        "%%bash\n",
        "su miniweather\n",
        "cd ~/miniWeather/c/build/\n",
        "ls -ltr"
      ],
      "metadata": {
        "colab": {
          "base_uri": "https://localhost:8080/"
        },
        "id": "oZneoqEl3Muw",
        "outputId": "6dde9102-216a-4d75-8df2-930e4fac588c"
      },
      "execution_count": 12,
      "outputs": [
        {
          "output_type": "stream",
          "name": "stdout",
          "text": [
            "total 972\n",
            "-rw-rw-r--  1 miniweather miniweather   1219 Jul 13 01:25 cmake_thatchroof_nvhpc.sh\n",
            "-rw-rw-r--  1 miniweather miniweather    864 Jul 13 01:25 cmake_thatchroof_gnu.sh\n",
            "-rw-rw-r--  1 miniweather miniweather   1251 Jul 13 01:25 cmake_summit_nvhpc.sh\n",
            "-rw-rw-r--  1 miniweather miniweather    787 Jul 13 01:25 cmake_summit_ibm.sh\n",
            "-rw-rw-r--  1 miniweather miniweather   1067 Jul 13 01:25 cmake_summit_gnu.sh\n",
            "-rw-rw-r--  1 miniweather miniweather    743 Jul 13 01:25 cmake_perlmutter_gnu_cpu.sh\n",
            "-rw-rw-r--  1 miniweather miniweather   1110 Jul 13 01:25 cmake_fhqwhgads_nvhpc.sh\n",
            "-rw-rw-r--  1 miniweather miniweather    869 Jul 13 01:25 cmake_fhqwhgads_gnu.sh\n",
            "-rwxrwxr-x  1 miniweather miniweather    309 Jul 13 01:25 cmake_clean.sh\n",
            "-rw-rw-r--  1 miniweather miniweather    866 Jul 13 01:25 cmake_andes_pgi_cpu.sh\n",
            "-rw-rw-r--  1 miniweather miniweather    887 Jul 13 01:25 cmake_andes_intel_cpu.sh\n",
            "-rw-rw-r--  1 miniweather miniweather    847 Jul 13 01:25 cmake_andes_gnu_cpu.sh\n",
            "-rwxrwxr-x  1 miniweather miniweather   1519 Jul 13 01:25 check_output.sh\n",
            "-rwxrwxr-x  1 miniweather miniweather    727 Jul 13 01:26 cmake_gnu_ubuntu.sh\n",
            "-rwxrwxr-x  1 miniweather miniweather    850 Jul 13 01:26 cmake_gnu_cpu.sh\n",
            "-rw-rw-r--  1 miniweather miniweather  13281 Jul 13 01:26 CMakeCache.txt\n",
            "-rw-rw-r--  1 miniweather miniweather  11054 Jul 13 01:26 Makefile\n",
            "-rw-rw-r--  1 miniweather miniweather   1025 Jul 13 01:26 CTestTestfile.cmake\n",
            "-rw-rw-r--  1 miniweather miniweather   1638 Jul 13 01:26 cmake_install.cmake\n",
            "-rwxrwxr-x  1 miniweather miniweather 146056 Jul 13 01:26 serial\n",
            "-rwxrwxr-x  1 miniweather miniweather 146136 Jul 13 01:26 serial_test\n",
            "-rwxrwxr-x  1 miniweather miniweather 146224 Jul 13 01:26 mpi\n",
            "-rwxrwxr-x  1 miniweather miniweather 146304 Jul 13 01:26 mpi_test\n",
            "-rwxrwxr-x  1 miniweather miniweather 147480 Jul 13 01:26 openmp\n",
            "-rwxrwxr-x  1 miniweather miniweather 147600 Jul 13 01:26 openmp_test\n",
            "drwxrwxr-x 11 miniweather miniweather   4096 Jul 13 01:26 CMakeFiles\n"
          ]
        }
      ]
    },
    {
      "cell_type": "markdown",
      "source": [
        "### Rodar `mpi`, com **um** processo MPI"
      ],
      "metadata": {
        "id": "WHGwRaCF3770"
      }
    },
    {
      "cell_type": "code",
      "source": [
        "%%bash\n",
        "su miniweather\n",
        "cd ~/miniWeather/c/build/\n",
        "mpirun -np 1 ./mpi"
      ],
      "metadata": {
        "colab": {
          "base_uri": "https://localhost:8080/"
        },
        "id": "LpotmP2J4F22",
        "outputId": "b6d52633-18ac-4249-c507-88bd269a332c"
      },
      "execution_count": 13,
      "outputs": [
        {
          "output_type": "stream",
          "name": "stdout",
          "text": [
            "nx_glob, nz_glob: 200 100\n",
            "dx,dz: 100.000000 100.000000\n",
            "dt: 0.333333\n",
            "*** OUTPUT ***\n",
            "*** OUTPUT ***\n",
            "*** OUTPUT ***\n",
            "*** OUTPUT ***\n",
            "*** OUTPUT ***\n",
            "*** OUTPUT ***\n",
            "*** OUTPUT ***\n",
            "*** OUTPUT ***\n",
            "*** OUTPUT ***\n",
            "*** OUTPUT ***\n",
            "*** OUTPUT ***\n",
            "*** OUTPUT ***\n",
            "*** OUTPUT ***\n",
            "*** OUTPUT ***\n",
            "*** OUTPUT ***\n",
            "*** OUTPUT ***\n",
            "*** OUTPUT ***\n",
            "*** OUTPUT ***\n",
            "*** OUTPUT ***\n",
            "*** OUTPUT ***\n",
            "*** OUTPUT ***\n",
            "*** OUTPUT ***\n",
            "*** OUTPUT ***\n",
            "*** OUTPUT ***\n",
            "*** OUTPUT ***\n",
            "*** OUTPUT ***\n",
            "*** OUTPUT ***\n",
            "*** OUTPUT ***\n",
            "*** OUTPUT ***\n",
            "*** OUTPUT ***\n",
            "*** OUTPUT ***\n",
            "*** OUTPUT ***\n",
            "*** OUTPUT ***\n",
            "*** OUTPUT ***\n",
            "*** OUTPUT ***\n",
            "*** OUTPUT ***\n",
            "*** OUTPUT ***\n",
            "*** OUTPUT ***\n",
            "*** OUTPUT ***\n",
            "*** OUTPUT ***\n",
            "*** OUTPUT ***\n",
            "*** OUTPUT ***\n",
            "*** OUTPUT ***\n",
            "*** OUTPUT ***\n",
            "*** OUTPUT ***\n",
            "*** OUTPUT ***\n",
            "*** OUTPUT ***\n",
            "*** OUTPUT ***\n",
            "*** OUTPUT ***\n",
            "*** OUTPUT ***\n",
            "*** OUTPUT ***\n",
            "*** OUTPUT ***\n",
            "*** OUTPUT ***\n",
            "*** OUTPUT ***\n",
            "*** OUTPUT ***\n",
            "*** OUTPUT ***\n",
            "*** OUTPUT ***\n",
            "*** OUTPUT ***\n",
            "*** OUTPUT ***\n",
            "*** OUTPUT ***\n",
            "*** OUTPUT ***\n",
            "*** OUTPUT ***\n",
            "*** OUTPUT ***\n",
            "*** OUTPUT ***\n",
            "*** OUTPUT ***\n",
            "*** OUTPUT ***\n",
            "*** OUTPUT ***\n",
            "*** OUTPUT ***\n",
            "*** OUTPUT ***\n",
            "*** OUTPUT ***\n",
            "*** OUTPUT ***\n",
            "*** OUTPUT ***\n",
            "*** OUTPUT ***\n",
            "*** OUTPUT ***\n",
            "*** OUTPUT ***\n",
            "*** OUTPUT ***\n",
            "*** OUTPUT ***\n",
            "*** OUTPUT ***\n",
            "*** OUTPUT ***\n",
            "*** OUTPUT ***\n",
            "*** OUTPUT ***\n",
            "*** OUTPUT ***\n",
            "*** OUTPUT ***\n",
            "*** OUTPUT ***\n",
            "*** OUTPUT ***\n",
            "*** OUTPUT ***\n",
            "*** OUTPUT ***\n",
            "*** OUTPUT ***\n",
            "*** OUTPUT ***\n",
            "*** OUTPUT ***\n",
            "*** OUTPUT ***\n",
            "*** OUTPUT ***\n",
            "*** OUTPUT ***\n",
            "*** OUTPUT ***\n",
            "*** OUTPUT ***\n",
            "*** OUTPUT ***\n",
            "*** OUTPUT ***\n",
            "*** OUTPUT ***\n",
            "*** OUTPUT ***\n",
            "*** OUTPUT ***\n",
            "CPU Time: 23.1136 sec\n",
            "d_mass: 2.489416e-14\n",
            "d_te:   3.600774e-08\n"
          ]
        }
      ]
    },
    {
      "cell_type": "markdown",
      "source": [
        "### Rodar `mpi`, com **dois** processos MPI"
      ],
      "metadata": {
        "id": "0xh8x82l4ks-"
      }
    },
    {
      "cell_type": "code",
      "source": [
        "%%bash\n",
        "su miniweather\n",
        "cd ~/miniWeather/c/build/\n",
        "mpirun -np 2 ./mpi"
      ],
      "metadata": {
        "colab": {
          "base_uri": "https://localhost:8080/"
        },
        "outputId": "670d2abc-ee5e-454f-f232-4a099643ae1f",
        "id": "7ghm0EBR4ga_"
      },
      "execution_count": 14,
      "outputs": [
        {
          "output_type": "stream",
          "name": "stdout",
          "text": [
            "nx_glob, nz_glob: 200 100\n",
            "dx,dz: 100.000000 100.000000\n",
            "dt: 0.333333\n",
            "*** OUTPUT ***\n",
            "*** OUTPUT ***\n",
            "*** OUTPUT ***\n",
            "*** OUTPUT ***\n",
            "*** OUTPUT ***\n",
            "*** OUTPUT ***\n",
            "*** OUTPUT ***\n",
            "*** OUTPUT ***\n",
            "*** OUTPUT ***\n",
            "*** OUTPUT ***\n",
            "*** OUTPUT ***\n",
            "*** OUTPUT ***\n",
            "*** OUTPUT ***\n",
            "*** OUTPUT ***\n",
            "*** OUTPUT ***\n",
            "*** OUTPUT ***\n",
            "*** OUTPUT ***\n",
            "*** OUTPUT ***\n",
            "*** OUTPUT ***\n",
            "*** OUTPUT ***\n",
            "*** OUTPUT ***\n",
            "*** OUTPUT ***\n",
            "*** OUTPUT ***\n",
            "*** OUTPUT ***\n",
            "*** OUTPUT ***\n",
            "*** OUTPUT ***\n",
            "*** OUTPUT ***\n",
            "*** OUTPUT ***\n",
            "*** OUTPUT ***\n",
            "*** OUTPUT ***\n",
            "*** OUTPUT ***\n",
            "*** OUTPUT ***\n",
            "*** OUTPUT ***\n",
            "*** OUTPUT ***\n",
            "*** OUTPUT ***\n",
            "*** OUTPUT ***\n",
            "*** OUTPUT ***\n",
            "*** OUTPUT ***\n",
            "*** OUTPUT ***\n",
            "*** OUTPUT ***\n",
            "*** OUTPUT ***\n",
            "*** OUTPUT ***\n",
            "*** OUTPUT ***\n",
            "*** OUTPUT ***\n",
            "*** OUTPUT ***\n",
            "*** OUTPUT ***\n",
            "*** OUTPUT ***\n",
            "*** OUTPUT ***\n",
            "*** OUTPUT ***\n",
            "*** OUTPUT ***\n",
            "*** OUTPUT ***\n",
            "*** OUTPUT ***\n",
            "*** OUTPUT ***\n",
            "*** OUTPUT ***\n",
            "*** OUTPUT ***\n",
            "*** OUTPUT ***\n",
            "*** OUTPUT ***\n",
            "*** OUTPUT ***\n",
            "*** OUTPUT ***\n",
            "*** OUTPUT ***\n",
            "*** OUTPUT ***\n",
            "*** OUTPUT ***\n",
            "*** OUTPUT ***\n",
            "*** OUTPUT ***\n",
            "*** OUTPUT ***\n",
            "*** OUTPUT ***\n",
            "*** OUTPUT ***\n",
            "*** OUTPUT ***\n",
            "*** OUTPUT ***\n",
            "*** OUTPUT ***\n",
            "*** OUTPUT ***\n",
            "*** OUTPUT ***\n",
            "*** OUTPUT ***\n",
            "*** OUTPUT ***\n",
            "*** OUTPUT ***\n",
            "*** OUTPUT ***\n",
            "*** OUTPUT ***\n",
            "*** OUTPUT ***\n",
            "*** OUTPUT ***\n",
            "*** OUTPUT ***\n",
            "*** OUTPUT ***\n",
            "*** OUTPUT ***\n",
            "*** OUTPUT ***\n",
            "*** OUTPUT ***\n",
            "*** OUTPUT ***\n",
            "*** OUTPUT ***\n",
            "*** OUTPUT ***\n",
            "*** OUTPUT ***\n",
            "*** OUTPUT ***\n",
            "*** OUTPUT ***\n",
            "*** OUTPUT ***\n",
            "*** OUTPUT ***\n",
            "*** OUTPUT ***\n",
            "*** OUTPUT ***\n",
            "*** OUTPUT ***\n",
            "*** OUTPUT ***\n",
            "*** OUTPUT ***\n",
            "*** OUTPUT ***\n",
            "*** OUTPUT ***\n",
            "*** OUTPUT ***\n",
            "CPU Time: 13.4846 sec\n",
            "d_mass: -3.965442e-15\n",
            "d_te:   3.600768e-08\n"
          ]
        }
      ]
    },
    {
      "cell_type": "markdown",
      "source": [
        "### Rodar `mpi`, com **quatro** processos MPI"
      ],
      "metadata": {
        "id": "Dj9RcXqm4muh"
      }
    },
    {
      "cell_type": "code",
      "source": [
        "%%bash\n",
        "su miniweather\n",
        "cd ~/miniWeather/c/build/\n",
        "mpirun --use-hwthread-cpus -np 4 ./mpi\n",
        "ls *.nc"
      ],
      "metadata": {
        "colab": {
          "base_uri": "https://localhost:8080/"
        },
        "outputId": "5cf96942-6964-4160-9cfd-fd40ec5d917b",
        "id": "XWtHXOVc4guS"
      },
      "execution_count": 17,
      "outputs": [
        {
          "output_type": "stream",
          "name": "stdout",
          "text": [
            "nx_glob, nz_glob: 200 100\n",
            "dx,dz: 100.000000 100.000000\n",
            "dt: 0.333333\n",
            "*** OUTPUT ***\n",
            "*** OUTPUT ***\n",
            "*** OUTPUT ***\n",
            "*** OUTPUT ***\n",
            "*** OUTPUT ***\n",
            "*** OUTPUT ***\n",
            "*** OUTPUT ***\n",
            "*** OUTPUT ***\n",
            "*** OUTPUT ***\n",
            "*** OUTPUT ***\n",
            "*** OUTPUT ***\n",
            "*** OUTPUT ***\n",
            "*** OUTPUT ***\n",
            "*** OUTPUT ***\n",
            "*** OUTPUT ***\n",
            "*** OUTPUT ***\n",
            "*** OUTPUT ***\n",
            "*** OUTPUT ***\n",
            "*** OUTPUT ***\n",
            "*** OUTPUT ***\n",
            "*** OUTPUT ***\n",
            "*** OUTPUT ***\n",
            "*** OUTPUT ***\n",
            "*** OUTPUT ***\n",
            "*** OUTPUT ***\n",
            "*** OUTPUT ***\n",
            "*** OUTPUT ***\n",
            "*** OUTPUT ***\n",
            "*** OUTPUT ***\n",
            "*** OUTPUT ***\n",
            "*** OUTPUT ***\n",
            "*** OUTPUT ***\n",
            "*** OUTPUT ***\n",
            "*** OUTPUT ***\n",
            "*** OUTPUT ***\n",
            "*** OUTPUT ***\n",
            "*** OUTPUT ***\n",
            "*** OUTPUT ***\n",
            "*** OUTPUT ***\n",
            "*** OUTPUT ***\n",
            "*** OUTPUT ***\n",
            "*** OUTPUT ***\n",
            "*** OUTPUT ***\n",
            "*** OUTPUT ***\n",
            "*** OUTPUT ***\n",
            "*** OUTPUT ***\n",
            "*** OUTPUT ***\n",
            "*** OUTPUT ***\n",
            "*** OUTPUT ***\n",
            "*** OUTPUT ***\n",
            "*** OUTPUT ***\n",
            "*** OUTPUT ***\n",
            "*** OUTPUT ***\n",
            "*** OUTPUT ***\n",
            "*** OUTPUT ***\n",
            "*** OUTPUT ***\n",
            "*** OUTPUT ***\n",
            "*** OUTPUT ***\n",
            "*** OUTPUT ***\n",
            "*** OUTPUT ***\n",
            "*** OUTPUT ***\n",
            "*** OUTPUT ***\n",
            "*** OUTPUT ***\n",
            "*** OUTPUT ***\n",
            "*** OUTPUT ***\n",
            "*** OUTPUT ***\n",
            "*** OUTPUT ***\n",
            "*** OUTPUT ***\n",
            "*** OUTPUT ***\n",
            "*** OUTPUT ***\n",
            "*** OUTPUT ***\n",
            "*** OUTPUT ***\n",
            "*** OUTPUT ***\n",
            "*** OUTPUT ***\n",
            "*** OUTPUT ***\n",
            "*** OUTPUT ***\n",
            "*** OUTPUT ***\n",
            "*** OUTPUT ***\n",
            "*** OUTPUT ***\n",
            "*** OUTPUT ***\n",
            "*** OUTPUT ***\n",
            "*** OUTPUT ***\n",
            "*** OUTPUT ***\n",
            "*** OUTPUT ***\n",
            "*** OUTPUT ***\n",
            "*** OUTPUT ***\n",
            "*** OUTPUT ***\n",
            "*** OUTPUT ***\n",
            "*** OUTPUT ***\n",
            "*** OUTPUT ***\n",
            "*** OUTPUT ***\n",
            "*** OUTPUT ***\n",
            "*** OUTPUT ***\n",
            "*** OUTPUT ***\n",
            "*** OUTPUT ***\n",
            "*** OUTPUT ***\n",
            "*** OUTPUT ***\n",
            "*** OUTPUT ***\n",
            "*** OUTPUT ***\n",
            "*** OUTPUT ***\n",
            "CPU Time: 12.5015 sec\n",
            "d_mass: -1.762418e-14\n",
            "d_te:   3.600763e-08\n"
          ]
        }
      ]
    },
    {
      "cell_type": "code",
      "source": [
        "%%bash\n",
        "su miniweather\n",
        "cd ~/miniWeather/c/build/\n",
        "ls *.nc"
      ],
      "metadata": {
        "colab": {
          "base_uri": "https://localhost:8080/"
        },
        "id": "OnauB6om54uZ",
        "outputId": "84c556ec-78d2-48f0-8a1f-1c3e61101a86"
      },
      "execution_count": 18,
      "outputs": [
        {
          "output_type": "stream",
          "name": "stdout",
          "text": [
            "output.nc\n"
          ]
        }
      ]
    },
    {
      "cell_type": "code",
      "source": [
        "!pip install ncvue"
      ],
      "metadata": {
        "colab": {
          "base_uri": "https://localhost:8080/"
        },
        "id": "gNCC6WLuBUEN",
        "outputId": "ab493fbc-858b-4414-8811-2b388507eb86"
      },
      "execution_count": 23,
      "outputs": [
        {
          "output_type": "stream",
          "name": "stdout",
          "text": [
            "Collecting ncvue\n",
            "  Downloading ncvue-4.1.2-py3-none-any.whl (1.2 MB)\n",
            "\u001b[?25l     \u001b[90m━━━━━━━━━━━━━━━━━━━━━━━━━━━━━━━━━━━━━━━━\u001b[0m \u001b[32m0.0/1.2 MB\u001b[0m \u001b[31m?\u001b[0m eta \u001b[36m-:--:--\u001b[0m\r\u001b[2K     \u001b[90m━━━━━━━━━━━━━━━━━━━━━━━━━━━━━━━━━━━━━━━━\u001b[0m \u001b[32m1.2/1.2 MB\u001b[0m \u001b[31m37.3 MB/s\u001b[0m eta \u001b[36m0:00:00\u001b[0m\n",
            "\u001b[?25hRequirement already satisfied: numpy in /usr/local/lib/python3.10/dist-packages (from ncvue) (1.22.4)\n",
            "Requirement already satisfied: scipy in /usr/local/lib/python3.10/dist-packages (from ncvue) (1.10.1)\n",
            "Collecting netcdf4 (from ncvue)\n",
            "  Downloading netCDF4-1.6.4-cp310-cp310-manylinux_2_17_x86_64.manylinux2014_x86_64.whl (5.4 MB)\n",
            "\u001b[2K     \u001b[90m━━━━━━━━━━━━━━━━━━━━━━━━━━━━━━━━━━━━━━━━\u001b[0m \u001b[32m5.4/5.4 MB\u001b[0m \u001b[31m100.0 MB/s\u001b[0m eta \u001b[36m0:00:00\u001b[0m\n",
            "\u001b[?25hRequirement already satisfied: cython in /usr/local/lib/python3.10/dist-packages (from ncvue) (0.29.36)\n",
            "Collecting pyshp (from ncvue)\n",
            "  Downloading pyshp-2.3.1-py2.py3-none-any.whl (46 kB)\n",
            "\u001b[2K     \u001b[90m━━━━━━━━━━━━━━━━━━━━━━━━━━━━━━━━━━━━━━━━\u001b[0m \u001b[32m46.5/46.5 kB\u001b[0m \u001b[31m6.2 MB/s\u001b[0m eta \u001b[36m0:00:00\u001b[0m\n",
            "\u001b[?25hRequirement already satisfied: six in /usr/local/lib/python3.10/dist-packages (from ncvue) (1.16.0)\n",
            "Requirement already satisfied: shapely in /usr/local/lib/python3.10/dist-packages (from ncvue) (2.0.1)\n",
            "Requirement already satisfied: matplotlib in /usr/local/lib/python3.10/dist-packages (from ncvue) (3.7.1)\n",
            "Collecting pykdtree (from ncvue)\n",
            "  Downloading pykdtree-1.3.7.post0-cp310-cp310-manylinux_2_24_x86_64.whl (267 kB)\n",
            "\u001b[2K     \u001b[90m━━━━━━━━━━━━━━━━━━━━━━━━━━━━━━━━━━━━━━\u001b[0m \u001b[32m267.9/267.9 kB\u001b[0m \u001b[31m29.7 MB/s\u001b[0m eta \u001b[36m0:00:00\u001b[0m\n",
            "\u001b[?25hCollecting cartopy (from ncvue)\n",
            "  Downloading Cartopy-0.21.1.tar.gz (10.9 MB)\n",
            "\u001b[2K     \u001b[90m━━━━━━━━━━━━━━━━━━━━━━━━━━━━━━━━━━━━━━━━\u001b[0m \u001b[32m10.9/10.9 MB\u001b[0m \u001b[31m78.7 MB/s\u001b[0m eta \u001b[36m0:00:00\u001b[0m\n",
            "\u001b[?25h  Installing build dependencies ... \u001b[?25l\u001b[?25hdone\n",
            "  Getting requirements to build wheel ... \u001b[?25l\u001b[?25hdone\n",
            "  Preparing metadata (pyproject.toml) ... \u001b[?25l\u001b[?25hdone\n",
            "Requirement already satisfied: pyproj>=3.0.0 in /usr/local/lib/python3.10/dist-packages (from cartopy->ncvue) (3.6.0)\n",
            "Requirement already satisfied: contourpy>=1.0.1 in /usr/local/lib/python3.10/dist-packages (from matplotlib->ncvue) (1.1.0)\n",
            "Requirement already satisfied: cycler>=0.10 in /usr/local/lib/python3.10/dist-packages (from matplotlib->ncvue) (0.11.0)\n",
            "Requirement already satisfied: fonttools>=4.22.0 in /usr/local/lib/python3.10/dist-packages (from matplotlib->ncvue) (4.40.0)\n",
            "Requirement already satisfied: kiwisolver>=1.0.1 in /usr/local/lib/python3.10/dist-packages (from matplotlib->ncvue) (1.4.4)\n",
            "Requirement already satisfied: packaging>=20.0 in /usr/local/lib/python3.10/dist-packages (from matplotlib->ncvue) (23.1)\n",
            "Requirement already satisfied: pillow>=6.2.0 in /usr/local/lib/python3.10/dist-packages (from matplotlib->ncvue) (8.4.0)\n",
            "Requirement already satisfied: pyparsing>=2.3.1 in /usr/local/lib/python3.10/dist-packages (from matplotlib->ncvue) (3.1.0)\n",
            "Requirement already satisfied: python-dateutil>=2.7 in /usr/local/lib/python3.10/dist-packages (from matplotlib->ncvue) (2.8.2)\n",
            "Collecting cftime (from netcdf4->ncvue)\n",
            "  Downloading cftime-1.6.2-cp310-cp310-manylinux_2_17_x86_64.manylinux2014_x86_64.whl (1.2 MB)\n",
            "\u001b[2K     \u001b[90m━━━━━━━━━━━━━━━━━━━━━━━━━━━━━━━━━━━━━━━━\u001b[0m \u001b[32m1.2/1.2 MB\u001b[0m \u001b[31m72.0 MB/s\u001b[0m eta \u001b[36m0:00:00\u001b[0m\n",
            "\u001b[?25hRequirement already satisfied: certifi in /usr/local/lib/python3.10/dist-packages (from netcdf4->ncvue) (2023.5.7)\n",
            "Building wheels for collected packages: cartopy\n",
            "  Building wheel for cartopy (pyproject.toml) ... \u001b[?25l\u001b[?25hdone\n",
            "  Created wheel for cartopy: filename=Cartopy-0.21.1-cp310-cp310-linux_x86_64.whl size=11102733 sha256=b7d17b00dccafb2f451c71c6d5927273a7c6696d9be392150e8e3ffa718364e3\n",
            "  Stored in directory: /root/.cache/pip/wheels/30/b0/1a/1c1909e00c76653dc4e2ff48555257c0eb2d1698280c8d9955\n",
            "Successfully built cartopy\n",
            "Installing collected packages: pyshp, pykdtree, cftime, netcdf4, cartopy, ncvue\n",
            "Successfully installed cartopy-0.21.1 cftime-1.6.2 ncvue-4.1.2 netcdf4-1.6.4 pykdtree-1.3.7.post0 pyshp-2.3.1\n"
          ]
        }
      ]
    },
    {
      "cell_type": "code",
      "source": [
        "!apt install python3-tk"
      ],
      "metadata": {
        "id": "wcxMFGAuGUei",
        "outputId": "acbc4284-8d03-4ce2-8fbd-ae60c6cf70f4",
        "colab": {
          "base_uri": "https://localhost:8080/"
        }
      },
      "execution_count": 29,
      "outputs": [
        {
          "output_type": "stream",
          "name": "stdout",
          "text": [
            "Reading package lists... Done\n",
            "Building dependency tree       \n",
            "Reading state information... Done\n",
            "The following additional packages will be installed:\n",
            "  blt tk8.6-blt2.5\n",
            "Suggested packages:\n",
            "  blt-demo tix python3-tk-dbg\n",
            "The following NEW packages will be installed:\n",
            "  blt python3-tk tk8.6-blt2.5\n",
            "0 upgraded, 3 newly installed, 0 to remove and 4 not upgraded.\n",
            "Need to get 681 kB of archives.\n",
            "After this operation, 2,947 kB of additional disk space will be used.\n",
            "Get:1 http://archive.ubuntu.com/ubuntu focal/main amd64 tk8.6-blt2.5 amd64 2.5.3+dfsg-4 [572 kB]\n",
            "Get:2 http://archive.ubuntu.com/ubuntu focal/main amd64 blt amd64 2.5.3+dfsg-4 [4,944 B]\n",
            "Get:3 http://archive.ubuntu.com/ubuntu focal-updates/main amd64 python3-tk amd64 3.8.10-0ubuntu1~20.04 [104 kB]\n",
            "Fetched 681 kB in 1s (917 kB/s)\n",
            "Selecting previously unselected package tk8.6-blt2.5.\n",
            "(Reading database ... 123142 files and directories currently installed.)\n",
            "Preparing to unpack .../tk8.6-blt2.5_2.5.3+dfsg-4_amd64.deb ...\n",
            "Unpacking tk8.6-blt2.5 (2.5.3+dfsg-4) ...\n",
            "Selecting previously unselected package blt.\n",
            "Preparing to unpack .../blt_2.5.3+dfsg-4_amd64.deb ...\n",
            "Unpacking blt (2.5.3+dfsg-4) ...\n",
            "Selecting previously unselected package python3-tk:amd64.\n",
            "Preparing to unpack .../python3-tk_3.8.10-0ubuntu1~20.04_amd64.deb ...\n",
            "Unpacking python3-tk:amd64 (3.8.10-0ubuntu1~20.04) ...\n",
            "Setting up tk8.6-blt2.5 (2.5.3+dfsg-4) ...\n",
            "Setting up blt (2.5.3+dfsg-4) ...\n",
            "Setting up python3-tk:amd64 (3.8.10-0ubuntu1~20.04) ...\n",
            "Processing triggers for libc-bin (2.31-0ubuntu9.9) ...\n"
          ]
        }
      ]
    },
    {
      "cell_type": "code",
      "source": [
        "!apt install idle3"
      ],
      "metadata": {
        "id": "hqKwWMelGXI9",
        "outputId": "19e0bdaf-33aa-4a89-f796-25bc3ad1f8de",
        "colab": {
          "base_uri": "https://localhost:8080/"
        }
      },
      "execution_count": 32,
      "outputs": [
        {
          "output_type": "stream",
          "name": "stdout",
          "text": [
            "Reading package lists... Done\n",
            "Building dependency tree       \n",
            "Reading state information... Done\n",
            "idle3 is already the newest version (3.8.2-0ubuntu2).\n",
            "0 upgraded, 0 newly installed, 0 to remove and 4 not upgraded.\n"
          ]
        }
      ]
    },
    {
      "cell_type": "code",
      "source": [
        "!apt list | grep idle-python"
      ],
      "metadata": {
        "id": "wrCdjX1IG_Lw",
        "outputId": "55e8f005-a89a-4018-f41c-120cfdee2789",
        "colab": {
          "base_uri": "https://localhost:8080/"
        }
      },
      "execution_count": 35,
      "outputs": [
        {
          "output_type": "stream",
          "name": "stdout",
          "text": [
            "\n",
            "WARNING: apt does not have a stable CLI interface. Use with caution in scripts.\n",
            "\n",
            "idle-python2.7/focal-updates,focal-security 2.7.18-1~20.04.3 all\n",
            "idle-python3.10/focal 3.10.12-1+focal1 all\n",
            "idle-python3.11/focal 3.11.4-1+focal1 all\n",
            "idle-python3.12/focal 3.12.0~b3-1+focal1 all\n",
            "idle-python3.5/focal 3.5.10-1+focal3 all\n",
            "idle-python3.6/focal 3.6.15-1+focal3 all\n",
            "idle-python3.7/focal 3.7.17-1+focal1 all\n",
            "idle-python3.8/focal-updates,focal-security,now 3.8.10-0ubuntu1~20.04.8 all [installed,automatic]\n",
            "idle-python3.9/focal 3.9.17-1+focal1 all\n"
          ]
        }
      ]
    },
    {
      "cell_type": "code",
      "source": [
        "!apt list | grep python3-tk"
      ],
      "metadata": {
        "id": "NYOyoMVWIbuE",
        "outputId": "3f901a7e-69b0-4726-d39b-d730f396e50e",
        "colab": {
          "base_uri": "https://localhost:8080/"
        }
      },
      "execution_count": 39,
      "outputs": [
        {
          "output_type": "stream",
          "name": "stdout",
          "text": [
            "\n",
            "WARNING: apt does not have a stable CLI interface. Use with caution in scripts.\n",
            "\n",
            "python3-tk-dbg/focal-updates,focal-security 3.8.10-0ubuntu1~20.04 amd64\n",
            "python3-tk/focal-updates,focal-security,now 3.8.10-0ubuntu1~20.04 amd64 [installed]\n",
            "python3-tksnack/focal 2.2.10.20090623-dfsg-10 all\n",
            "python3-tktreectrl/focal 2.0.2-2 all\n"
          ]
        }
      ]
    },
    {
      "cell_type": "code",
      "source": [
        "!python -V"
      ],
      "metadata": {
        "id": "41_Eo2jZHlPD",
        "outputId": "39224818-9f1e-477b-c15f-344a4d0d7960",
        "colab": {
          "base_uri": "https://localhost:8080/"
        }
      },
      "execution_count": 36,
      "outputs": [
        {
          "output_type": "stream",
          "name": "stdout",
          "text": [
            "Python 3.10.12\n"
          ]
        }
      ]
    },
    {
      "cell_type": "code",
      "source": [
        "!sudo apt install idle-python3.10"
      ],
      "metadata": {
        "id": "8wQGjYlBHu3U",
        "outputId": "73b2549b-ee23-44de-f49e-f4b121e4bf33",
        "colab": {
          "base_uri": "https://localhost:8080/"
        }
      },
      "execution_count": 37,
      "outputs": [
        {
          "output_type": "stream",
          "name": "stdout",
          "text": [
            "Reading package lists... Done\n",
            "Building dependency tree       \n",
            "Reading state information... Done\n",
            "The following NEW packages will be installed:\n",
            "  idle-python3.10\n",
            "0 upgraded, 1 newly installed, 0 to remove and 4 not upgraded.\n",
            "Need to get 396 kB of archives.\n",
            "After this operation, 1,411 kB of additional disk space will be used.\n",
            "Get:1 http://ppa.launchpad.net/deadsnakes/ppa/ubuntu focal/main amd64 idle-python3.10 all 3.10.12-1+focal1 [396 kB]\n",
            "Fetched 396 kB in 0s (4,530 kB/s)\n",
            "debconf: unable to initialize frontend: Dialog\n",
            "debconf: (No usable dialog-like program is installed, so the dialog based frontend cannot be used. at /usr/share/perl5/Debconf/FrontEnd/Dialog.pm line 76, <> line 1.)\n",
            "debconf: falling back to frontend: Readline\n",
            "debconf: unable to initialize frontend: Readline\n",
            "debconf: (This frontend requires a controlling tty.)\n",
            "debconf: falling back to frontend: Teletype\n",
            "dpkg-preconfigure: unable to re-open stdin: \n",
            "Selecting previously unselected package idle-python3.10.\n",
            "(Reading database ... 127641 files and directories currently installed.)\n",
            "Preparing to unpack .../idle-python3.10_3.10.12-1+focal1_all.deb ...\n",
            "Unpacking idle-python3.10 (3.10.12-1+focal1) ...\n",
            "Setting up idle-python3.10 (3.10.12-1+focal1) ...\n",
            "Processing triggers for man-db (2.9.1-1) ...\n",
            "Processing triggers for mime-support (3.64ubuntu1) ...\n"
          ]
        }
      ]
    },
    {
      "cell_type": "code",
      "source": [
        "import matplotlib\n",
        "matplotlib.use('TKAgg')"
      ],
      "metadata": {
        "id": "V7DkQj0QJZYJ",
        "outputId": "ffee0a74-c7d4-45f7-8ac3-6c01cfec0825",
        "colab": {
          "base_uri": "https://localhost:8080/",
          "height": 467
        }
      },
      "execution_count": 40,
      "outputs": [
        {
          "output_type": "error",
          "ename": "ImportError",
          "evalue": "ignored",
          "traceback": [
            "\u001b[0;31m---------------------------------------------------------------------------\u001b[0m",
            "\u001b[0;31mImportError\u001b[0m                               Traceback (most recent call last)",
            "\u001b[0;32m<ipython-input-40-4952e4d41f9e>\u001b[0m in \u001b[0;36m<cell line: 2>\u001b[0;34m()\u001b[0m\n\u001b[1;32m      1\u001b[0m \u001b[0;32mimport\u001b[0m \u001b[0mmatplotlib\u001b[0m\u001b[0;34m\u001b[0m\u001b[0;34m\u001b[0m\u001b[0m\n\u001b[0;32m----> 2\u001b[0;31m \u001b[0mmatplotlib\u001b[0m\u001b[0;34m.\u001b[0m\u001b[0muse\u001b[0m\u001b[0;34m(\u001b[0m\u001b[0;34m'TKAgg'\u001b[0m\u001b[0;34m)\u001b[0m\u001b[0;34m\u001b[0m\u001b[0;34m\u001b[0m\u001b[0m\n\u001b[0m",
            "\u001b[0;32m/usr/local/lib/python3.10/dist-packages/matplotlib/__init__.py\u001b[0m in \u001b[0;36muse\u001b[0;34m(backend, force)\u001b[0m\n\u001b[1;32m   1231\u001b[0m                 \u001b[0;31m# user does not have the libraries to support their\u001b[0m\u001b[0;34m\u001b[0m\u001b[0;34m\u001b[0m\u001b[0m\n\u001b[1;32m   1232\u001b[0m                 \u001b[0;31m# chosen backend installed.\u001b[0m\u001b[0;34m\u001b[0m\u001b[0;34m\u001b[0m\u001b[0m\n\u001b[0;32m-> 1233\u001b[0;31m                 \u001b[0mplt\u001b[0m\u001b[0;34m.\u001b[0m\u001b[0mswitch_backend\u001b[0m\u001b[0;34m(\u001b[0m\u001b[0mname\u001b[0m\u001b[0;34m)\u001b[0m\u001b[0;34m\u001b[0m\u001b[0;34m\u001b[0m\u001b[0m\n\u001b[0m\u001b[1;32m   1234\u001b[0m             \u001b[0;32mexcept\u001b[0m \u001b[0mImportError\u001b[0m\u001b[0;34m:\u001b[0m\u001b[0;34m\u001b[0m\u001b[0;34m\u001b[0m\u001b[0m\n\u001b[1;32m   1235\u001b[0m                 \u001b[0;32mif\u001b[0m \u001b[0mforce\u001b[0m\u001b[0;34m:\u001b[0m\u001b[0;34m\u001b[0m\u001b[0;34m\u001b[0m\u001b[0m\n",
            "\u001b[0;32m/usr/local/lib/python3.10/dist-packages/matplotlib/pyplot.py\u001b[0m in \u001b[0;36mswitch_backend\u001b[0;34m(newbackend)\u001b[0m\n\u001b[1;32m    277\u001b[0m         if (current_framework and required_framework\n\u001b[1;32m    278\u001b[0m                 and current_framework != required_framework):\n\u001b[0;32m--> 279\u001b[0;31m             raise ImportError(\n\u001b[0m\u001b[1;32m    280\u001b[0m                 \u001b[0;34m\"Cannot load backend {!r} which requires the {!r} interactive \"\u001b[0m\u001b[0;34m\u001b[0m\u001b[0;34m\u001b[0m\u001b[0m\n\u001b[1;32m    281\u001b[0m                 \"framework, as {!r} is currently running\".format(\n",
            "\u001b[0;31mImportError\u001b[0m: Cannot load backend 'TkAgg' which requires the 'tk' interactive framework, as 'headless' is currently running",
            "",
            "\u001b[0;31m---------------------------------------------------------------------------\u001b[0;32m\nNOTE: If your import is failing due to a missing package, you can\nmanually install dependencies using either !pip or !apt.\n\nTo view examples of installing some common dependencies, click the\n\"Open Examples\" button below.\n\u001b[0;31m---------------------------------------------------------------------------\u001b[0m\n"
          ],
          "errorDetails": {
            "actions": [
              {
                "action": "open_url",
                "actionText": "Open Examples",
                "url": "/notebooks/snippets/importing_libraries.ipynb"
              }
            ]
          }
        }
      ]
    },
    {
      "cell_type": "code",
      "source": [
        "%matplotlib inline\n",
        "from ncvue import ncvue\n",
        "ncvue('/home/miniweather/miniWeather/c/build/output.nc')\n",
        "%matplotlib inline"
      ],
      "metadata": {
        "id": "EEf3FgxFC0NJ",
        "outputId": "eae938c1-e6f3-4f40-9509-c0f63d4fb299",
        "colab": {
          "base_uri": "https://localhost:8080/",
          "height": 502
        }
      },
      "execution_count": 38,
      "outputs": [
        {
          "output_type": "error",
          "ename": "ImportError",
          "evalue": "ignored",
          "traceback": [
            "\u001b[0;31m---------------------------------------------------------------------------\u001b[0m",
            "\u001b[0;31mImportError\u001b[0m                               Traceback (most recent call last)",
            "\u001b[0;32m<ipython-input-38-2b73e8cc25b5>\u001b[0m in \u001b[0;36m<cell line: 2>\u001b[0;34m()\u001b[0m\n\u001b[1;32m      1\u001b[0m \u001b[0mget_ipython\u001b[0m\u001b[0;34m(\u001b[0m\u001b[0;34m)\u001b[0m\u001b[0;34m.\u001b[0m\u001b[0mrun_line_magic\u001b[0m\u001b[0;34m(\u001b[0m\u001b[0;34m'matplotlib'\u001b[0m\u001b[0;34m,\u001b[0m \u001b[0;34m'inline'\u001b[0m\u001b[0;34m)\u001b[0m\u001b[0;34m\u001b[0m\u001b[0;34m\u001b[0m\u001b[0m\n\u001b[0;32m----> 2\u001b[0;31m \u001b[0;32mfrom\u001b[0m \u001b[0mncvue\u001b[0m \u001b[0;32mimport\u001b[0m \u001b[0mncvue\u001b[0m\u001b[0;34m\u001b[0m\u001b[0;34m\u001b[0m\u001b[0m\n\u001b[0m\u001b[1;32m      3\u001b[0m \u001b[0mncvue\u001b[0m\u001b[0;34m(\u001b[0m\u001b[0;34m'/home/miniweather/miniWeather/c/build/output.nc'\u001b[0m\u001b[0;34m)\u001b[0m\u001b[0;34m\u001b[0m\u001b[0;34m\u001b[0m\u001b[0m\n\u001b[1;32m      4\u001b[0m \u001b[0mget_ipython\u001b[0m\u001b[0;34m(\u001b[0m\u001b[0;34m)\u001b[0m\u001b[0;34m.\u001b[0m\u001b[0mrun_line_magic\u001b[0m\u001b[0;34m(\u001b[0m\u001b[0;34m'matplotlib'\u001b[0m\u001b[0;34m,\u001b[0m \u001b[0;34m'inline'\u001b[0m\u001b[0;34m)\u001b[0m\u001b[0;34m\u001b[0m\u001b[0;34m\u001b[0m\u001b[0m\n",
            "\u001b[0;32m/usr/local/lib/python3.10/dist-packages/ncvue/__init__.py\u001b[0m in \u001b[0;36m<module>\u001b[0;34m\u001b[0m\n\u001b[1;32m     98\u001b[0m \u001b[0;34m\u001b[0m\u001b[0m\n\u001b[1;32m     99\u001b[0m \u001b[0;31m# main calling program\u001b[0m\u001b[0;34m\u001b[0m\u001b[0;34m\u001b[0m\u001b[0m\n\u001b[0;32m--> 100\u001b[0;31m \u001b[0;32mfrom\u001b[0m \u001b[0;34m.\u001b[0m\u001b[0mncvue\u001b[0m \u001b[0;32mimport\u001b[0m \u001b[0mncvue\u001b[0m\u001b[0;34m\u001b[0m\u001b[0;34m\u001b[0m\u001b[0m\n\u001b[0m\u001b[1;32m    101\u001b[0m \u001b[0;34m\u001b[0m\u001b[0m\n\u001b[1;32m    102\u001b[0m \u001b[0;34m\u001b[0m\u001b[0m\n",
            "\u001b[0;32m/usr/local/lib/python3.10/dist-packages/ncvue/ncvue.py\u001b[0m in \u001b[0;36m<module>\u001b[0;34m\u001b[0m\n\u001b[1;32m     45\u001b[0m \u001b[0;32mfrom\u001b[0m \u001b[0;34m.\u001b[0m\u001b[0mncvmain\u001b[0m \u001b[0;32mimport\u001b[0m \u001b[0mncvMain\u001b[0m\u001b[0;34m\u001b[0m\u001b[0;34m\u001b[0m\u001b[0m\n\u001b[1;32m     46\u001b[0m \u001b[0;32mimport\u001b[0m \u001b[0mmatplotlib\u001b[0m \u001b[0;32mas\u001b[0m \u001b[0mmpl\u001b[0m\u001b[0;34m\u001b[0m\u001b[0;34m\u001b[0m\u001b[0m\n\u001b[0;32m---> 47\u001b[0;31m \u001b[0mmpl\u001b[0m\u001b[0;34m.\u001b[0m\u001b[0muse\u001b[0m\u001b[0;34m(\u001b[0m\u001b[0;34m'TkAgg'\u001b[0m\u001b[0;34m)\u001b[0m\u001b[0;34m\u001b[0m\u001b[0;34m\u001b[0m\u001b[0m\n\u001b[0m\u001b[1;32m     48\u001b[0m \u001b[0;32mfrom\u001b[0m \u001b[0mmatplotlib\u001b[0m \u001b[0;32mimport\u001b[0m \u001b[0mpyplot\u001b[0m \u001b[0;32mas\u001b[0m \u001b[0mplt\u001b[0m\u001b[0;34m\u001b[0m\u001b[0;34m\u001b[0m\u001b[0m\n\u001b[1;32m     49\u001b[0m \u001b[0;34m\u001b[0m\u001b[0m\n",
            "\u001b[0;32m/usr/local/lib/python3.10/dist-packages/matplotlib/__init__.py\u001b[0m in \u001b[0;36muse\u001b[0;34m(backend, force)\u001b[0m\n\u001b[1;32m   1231\u001b[0m                 \u001b[0;31m# user does not have the libraries to support their\u001b[0m\u001b[0;34m\u001b[0m\u001b[0;34m\u001b[0m\u001b[0m\n\u001b[1;32m   1232\u001b[0m                 \u001b[0;31m# chosen backend installed.\u001b[0m\u001b[0;34m\u001b[0m\u001b[0;34m\u001b[0m\u001b[0m\n\u001b[0;32m-> 1233\u001b[0;31m                 \u001b[0mplt\u001b[0m\u001b[0;34m.\u001b[0m\u001b[0mswitch_backend\u001b[0m\u001b[0;34m(\u001b[0m\u001b[0mname\u001b[0m\u001b[0;34m)\u001b[0m\u001b[0;34m\u001b[0m\u001b[0;34m\u001b[0m\u001b[0m\n\u001b[0m\u001b[1;32m   1234\u001b[0m             \u001b[0;32mexcept\u001b[0m \u001b[0mImportError\u001b[0m\u001b[0;34m:\u001b[0m\u001b[0;34m\u001b[0m\u001b[0;34m\u001b[0m\u001b[0m\n\u001b[1;32m   1235\u001b[0m                 \u001b[0;32mif\u001b[0m \u001b[0mforce\u001b[0m\u001b[0;34m:\u001b[0m\u001b[0;34m\u001b[0m\u001b[0;34m\u001b[0m\u001b[0m\n",
            "\u001b[0;32m/usr/local/lib/python3.10/dist-packages/matplotlib/pyplot.py\u001b[0m in \u001b[0;36mswitch_backend\u001b[0;34m(newbackend)\u001b[0m\n\u001b[1;32m    277\u001b[0m         if (current_framework and required_framework\n\u001b[1;32m    278\u001b[0m                 and current_framework != required_framework):\n\u001b[0;32m--> 279\u001b[0;31m             raise ImportError(\n\u001b[0m\u001b[1;32m    280\u001b[0m                 \u001b[0;34m\"Cannot load backend {!r} which requires the {!r} interactive \"\u001b[0m\u001b[0;34m\u001b[0m\u001b[0;34m\u001b[0m\u001b[0m\n\u001b[1;32m    281\u001b[0m                 \"framework, as {!r} is currently running\".format(\n",
            "\u001b[0;31mImportError\u001b[0m: Cannot load backend 'TkAgg' which requires the 'tk' interactive framework, as 'headless' is currently running",
            "",
            "\u001b[0;31m---------------------------------------------------------------------------\u001b[0;32m\nNOTE: If your import is failing due to a missing package, you can\nmanually install dependencies using either !pip or !apt.\n\nTo view examples of installing some common dependencies, click the\n\"Open Examples\" button below.\n\u001b[0;31m---------------------------------------------------------------------------\u001b[0m\n"
          ],
          "errorDetails": {
            "actions": [
              {
                "action": "open_url",
                "actionText": "Open Examples",
                "url": "/notebooks/snippets/importing_libraries.ipynb"
              }
            ]
          }
        }
      ]
    }
  ]
}